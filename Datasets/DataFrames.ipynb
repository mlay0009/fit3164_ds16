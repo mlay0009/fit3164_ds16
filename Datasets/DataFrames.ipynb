{
 "cells": [
  {
   "cell_type": "markdown",
   "metadata": {},
   "source": [
    "DATAFRAME 1: 2019 Coles vs Woolowrths Price Comparison"
   ]
  },
  {
   "cell_type": "code",
   "execution_count": 25,
   "metadata": {},
   "outputs": [],
   "source": [
    "# import pandas as pd\n",
    "\n",
    "# import os\n",
    "\n",
    "# # Replace 'new_directory_path' with the path of the directory you want to set as the working directory\n",
    "# new_directory_path = r'C:\\Users\\marcu\\OneDrive\\Desktop\\FIT3164\\Project Files\\fit3164_ds16\\Datasets\\Coles vs Woolworths 2019'\n",
    "\n",
    "# # Change the working directory\n",
    "# os.chdir(new_directory_path)\n",
    "\n",
    "# # Replace 'your_file.xls' with the actual path to your Excel file\n",
    "# excel_file_path = 'Coles_v_Woolworths_Price_Comparison.xlsx'\n",
    "\n",
    "# # Read the Excel file into a pandas DataFrame\n",
    "# df = pd.read_excel(excel_file_path)\n",
    "\n",
    "# df.head()"
   ]
  },
  {
   "cell_type": "markdown",
   "metadata": {},
   "source": [
    "CODE TESTS FOR DATAFRAME 2"
   ]
  },
  {
   "cell_type": "code",
   "execution_count": 26,
   "metadata": {},
   "outputs": [],
   "source": [
    "# import pandas as pd\n",
    "\n",
    "# # Replace 'your_file.xls' with the actual path to your Excel file\n",
    "# excel_file_path = 'Average_Retail_Prices_June_2011.xls'\n",
    "\n",
    "# # Read the Excel file into a pandas DataFrame\n",
    "# df2 = pd.read_excel(excel_file_path, 'Table_1')\n",
    "\n",
    "# # Delete the first three rows\n",
    "# df2 = df2.iloc[3:]\n",
    "\n",
    "# # Reset the index of the DataFrame\n",
    "# df2.reset_index(drop=True, inplace=True)\n",
    "\n",
    "# # Set the values from the first row as column names\n",
    "# df2.columns = df2.iloc[0]\n",
    "\n",
    "# # Drop the first row (used as column names)\n",
    "# df2 = df2[2:]\n",
    "\n",
    "# # Reset the index of the DataFrame\n",
    "# df2.reset_index(drop=True, inplace=True)\n",
    "# # Delete the last three rows\n",
    "# df2 = df2.iloc[:-3]\n",
    "\n",
    "# # Reset the index of the DataFrame\n",
    "# df2.reset_index(drop=True, inplace=True)"
   ]
  },
  {
   "cell_type": "code",
   "execution_count": 27,
   "metadata": {},
   "outputs": [],
   "source": [
    "# df2['Month'] = 'June'\n",
    "\n",
    "# df2['Year'] = '2011'\n",
    "\n",
    "# print(df2)"
   ]
  },
  {
   "cell_type": "markdown",
   "metadata": {},
   "source": [
    "DATAFRAME 2: Average Retail Prices 2000-2011"
   ]
  },
  {
   "cell_type": "code",
   "execution_count": 28,
   "metadata": {},
   "outputs": [],
   "source": [
    "# import os\n",
    "# import pandas as pd\n",
    "\n",
    "# # Replace 'folder_path' with the path to your folder containing the files\n",
    "# folder_path = r'C:\\Users\\marcu\\OneDrive\\Desktop\\FIT3164\\Project Files\\fit3164_ds16\\Datasets\\Average Retail Prices 2000-2011'\n",
    "\n",
    "# # Get a list of all files in the folder\n",
    "# file_list = os.listdir(folder_path)\n",
    "\n",
    "# # Initialize an empty list to store DataFrames\n",
    "# dfs = []\n",
    "\n",
    "# # Iterate through each file and read it into a DataFrame\n",
    "# for file in file_list:\n",
    "#     if file.endswith('.pdf'):\n",
    "#         file_path = os.path.join(folder_path, file)\n",
    "#         #Need to do for PDF \n",
    "#         year, month = file.split('-')\n",
    "#         df['Year'] = year\n",
    "#         df['Month'] = month\n",
    "#         dfs.append(df)\n",
    "#     if file.endswith('.xls'):  # Change the file extension if needed\n",
    "#         file_path = os.path.join(folder_path, file)\n",
    "#         df = pd.read_excel(file_path, sheet_name='Table_1')  # Assuming 'Table_1' is the sheet name\n",
    "#         year, month = file.split('-')\n",
    "#         df['Year'] = year\n",
    "#         df['Month'] = month\n",
    "#         dfs.append(df)\n",
    "\n",
    "# # Concatenate all DataFrames in the list\n",
    "# combined_df = pd.concat(dfs, ignore_index=True)\n",
    "\n",
    "# # Display the combined DataFrame\n",
    "# combined_df.head(-20)\n"
   ]
  },
  {
   "cell_type": "markdown",
   "metadata": {},
   "source": [
    "DATAFRAME 3: Coles Grocery Prices September 2022 (USE TO COMPARE PRODUCTS ACOST POSTCODES)"
   ]
  },
  {
   "cell_type": "code",
   "execution_count": 29,
   "metadata": {},
   "outputs": [],
   "source": [
    "# import os\n",
    "# import pandas as pd\n",
    "\n",
    "# # Replace 'new_directory_path' with the path of the directory you want to set as the working directory\n",
    "# new_directory_path = r'C:\\Users\\marcu\\OneDrive\\Desktop\\FIT3164\\Project Files\\fit3164_ds16\\Datasets\\Coles Grocery Prices September 2022\\Coles Grocery Prices September 2022'\n",
    "\n",
    "# # Change the working directory\n",
    "# os.chdir(new_directory_path)\n",
    "\n",
    "# # Replace 'your_file.csv' with the actual path to your CSV file\n",
    "# csv_file_path = 'Coles Grocery Prices September 2022.csv'\n",
    "\n",
    "# # Read the CSV file into a pandas DataFrame\n",
    "# df = pd.read_csv(csv_file_path)\n",
    "\n",
    "# df.head(5)"
   ]
  },
  {
   "cell_type": "markdown",
   "metadata": {},
   "source": [
    "DATAFRAME 4: Australia, All States CPI Data"
   ]
  },
  {
   "cell_type": "markdown",
   "metadata": {},
   "source": []
  },
  {
   "cell_type": "markdown",
   "metadata": {},
   "source": [
    "### Sub-Category Analysis Dataframes"
   ]
  },
  {
   "cell_type": "code",
   "execution_count": 30,
   "metadata": {},
   "outputs": [
    {
     "data": {
      "text/html": [
       "<div>\n",
       "<style scoped>\n",
       "    .dataframe tbody tr th:only-of-type {\n",
       "        vertical-align: middle;\n",
       "    }\n",
       "\n",
       "    .dataframe tbody tr th {\n",
       "        vertical-align: top;\n",
       "    }\n",
       "\n",
       "    .dataframe thead th {\n",
       "        text-align: right;\n",
       "    }\n",
       "</style>\n",
       "<table border=\"1\" class=\"dataframe\">\n",
       "  <thead>\n",
       "    <tr style=\"text-align: right;\">\n",
       "      <th></th>\n",
       "      <th>Date</th>\n",
       "      <th>Food and non-alcoholic beverages</th>\n",
       "      <th>Bread and cereal products</th>\n",
       "      <th>Meat and seafoods</th>\n",
       "      <th>Dairy and related products</th>\n",
       "      <th>Fruit and vegetables</th>\n",
       "      <th>Food products n.e.c.</th>\n",
       "      <th>Non-alcoholic beverages</th>\n",
       "      <th>Meals out and take away foods</th>\n",
       "    </tr>\n",
       "  </thead>\n",
       "  <tbody>\n",
       "    <tr>\n",
       "      <th>0</th>\n",
       "      <td>1990-09-01</td>\n",
       "      <td>2.6</td>\n",
       "      <td>7.4</td>\n",
       "      <td>2.0</td>\n",
       "      <td>6.8</td>\n",
       "      <td>-18.2</td>\n",
       "      <td>8.1</td>\n",
       "      <td>6.8</td>\n",
       "      <td>6.9</td>\n",
       "    </tr>\n",
       "    <tr>\n",
       "      <th>1</th>\n",
       "      <td>1990-12-01</td>\n",
       "      <td>3.2</td>\n",
       "      <td>8.1</td>\n",
       "      <td>2.0</td>\n",
       "      <td>5.8</td>\n",
       "      <td>-17.5</td>\n",
       "      <td>6.8</td>\n",
       "      <td>5.5</td>\n",
       "      <td>7.7</td>\n",
       "    </tr>\n",
       "    <tr>\n",
       "      <th>2</th>\n",
       "      <td>1991-03-01</td>\n",
       "      <td>5.2</td>\n",
       "      <td>6.2</td>\n",
       "      <td>2.2</td>\n",
       "      <td>4.5</td>\n",
       "      <td>7.5</td>\n",
       "      <td>4.5</td>\n",
       "      <td>6.2</td>\n",
       "      <td>6.3</td>\n",
       "    </tr>\n",
       "    <tr>\n",
       "      <th>3</th>\n",
       "      <td>1991-06-01</td>\n",
       "      <td>1.9</td>\n",
       "      <td>5.3</td>\n",
       "      <td>0.5</td>\n",
       "      <td>3.3</td>\n",
       "      <td>-11.7</td>\n",
       "      <td>5.3</td>\n",
       "      <td>5.8</td>\n",
       "      <td>5.1</td>\n",
       "    </tr>\n",
       "    <tr>\n",
       "      <th>4</th>\n",
       "      <td>1991-09-01</td>\n",
       "      <td>3.5</td>\n",
       "      <td>4.4</td>\n",
       "      <td>0.2</td>\n",
       "      <td>5.6</td>\n",
       "      <td>0.2</td>\n",
       "      <td>3.9</td>\n",
       "      <td>6.0</td>\n",
       "      <td>5.3</td>\n",
       "    </tr>\n",
       "  </tbody>\n",
       "</table>\n",
       "</div>"
      ],
      "text/plain": [
       "        Date   Food and non-alcoholic beverages   Bread and cereal products   \\\n",
       "0 1990-09-01                                 2.6                         7.4   \n",
       "1 1990-12-01                                 3.2                         8.1   \n",
       "2 1991-03-01                                 5.2                         6.2   \n",
       "3 1991-06-01                                 1.9                         5.3   \n",
       "4 1991-09-01                                 3.5                         4.4   \n",
       "\n",
       "   Meat and seafoods  Dairy and related products   Fruit and vegetables  \\\n",
       "0                2.0                          6.8                 -18.2   \n",
       "1                2.0                          5.8                 -17.5   \n",
       "2                2.2                          4.5                   7.5   \n",
       "3                0.5                          3.3                 -11.7   \n",
       "4                0.2                          5.6                   0.2   \n",
       "\n",
       "   Food products n.e.c.  Non-alcoholic beverages   \\\n",
       "0                   8.1                       6.8   \n",
       "1                   6.8                       5.5   \n",
       "2                   4.5                       6.2   \n",
       "3                   5.3                       5.8   \n",
       "4                   3.9                       6.0   \n",
       "\n",
       "    Meals out and take away foods   \n",
       "0                              6.9  \n",
       "1                              7.7  \n",
       "2                              6.3  \n",
       "3                              5.1  \n",
       "4                              5.3  "
      ]
     },
     "execution_count": 30,
     "metadata": {},
     "output_type": "execute_result"
    }
   ],
   "source": [
    "import pandas as pd\n",
    "\n",
    "import os\n",
    "\n",
    "# Replace 'new_directory_path' with the path of the directory you want to set as the working directory\n",
    "new_directory_path = r'/Users/seanbastians/Desktop/UNIVERSITY/4th Year/FIT3162 - DataSci Project 2/Project Files/fit3164_ds16/Datasets/Clean Datasets'\n",
    "\n",
    "# Change the working directory\n",
    "os.chdir(new_directory_path)\n",
    "\n",
    "# Replace 'your_file.xls' with the actual path to your Excel file\n",
    "excel_file_path = 'Sub-Category-CPI-Percentage-Change.xlsx'\n",
    "\n",
    "# Read the Excel file into a pandas DataFrame\n",
    "df = pd.read_excel(excel_file_path)\n",
    "\n",
    "df.head()"
   ]
  },
  {
   "cell_type": "code",
   "execution_count": 35,
   "metadata": {},
   "outputs": [
    {
     "data": {
      "application/vnd.jupyter.widget-view+json": {
       "model_id": "52ffc05fa889409ba591fdb71b15a1bc",
       "version_major": 2,
       "version_minor": 0
      },
      "text/plain": [
       "interactive(children=(Dropdown(description='Select Category:', options=('All Categories', ' Food and non-alcoh…"
      ]
     },
     "metadata": {},
     "output_type": "display_data"
    },
    {
     "data": {
      "application/vnd.jupyter.widget-view+json": {
       "model_id": "1071611f381c4ac5aeadd72bb7eae504",
       "version_major": 2,
       "version_minor": 0
      },
      "text/plain": [
       "Dropdown(description='Select Category:', options=('All Categories', ' Food and non-alcoholic beverages ', 'Bre…"
      ]
     },
     "metadata": {},
     "output_type": "display_data"
    }
   ],
   "source": [
    "import matplotlib.pyplot as plt\n",
    "import pandas as pd\n",
    "import ipywidgets as widgets\n",
    "from IPython.display import display\n",
    "\n",
    "# Assuming you have a DataFrame 'df' with a column \"Date\" and other data columns\n",
    "\n",
    "# Get the x values\n",
    "x = df[\"Date\"]\n",
    "\n",
    "# Plotting function\n",
    "def plot_data(selected_category):\n",
    "    plt.figure(figsize=(12, 8))\n",
    "    \n",
    "    if selected_category == 'All Categories':\n",
    "        ax = df.plot.line(x='Date', figsize=(12, 8))\n",
    "        plt.legend(df.columns[1:])\n",
    "    else:\n",
    "        ax = df.plot.line(x='Date', y=selected_category, figsize=(12, 8))\n",
    "        plt.legend([selected_category])\n",
    "    \n",
    "    plt.xlabel('Date')\n",
    "    plt.ylabel('Percentage Change')\n",
    "    plt.title(f'Percentage Change Over Time')\n",
    "    plt.xticks(rotation=45)\n",
    "    plt.tight_layout()\n",
    "    plt.show()\n",
    "\n",
    "# Create dropdown widget\n",
    "category_options = ['All Categories'] + list(df.columns[1:])\n",
    "category_dropdown = widgets.Dropdown(\n",
    "    options=category_options,\n",
    "    value='All Categories',  # Set default value\n",
    "    description='Select Category:'\n",
    ")\n",
    "\n",
    "# Display interactive controls and plot\n",
    "widgets.interact(plot_data, selected_category=category_dropdown)\n",
    "display(category_dropdown)\n"
   ]
  }
 ],
 "metadata": {
  "kernelspec": {
   "display_name": "Python 3",
   "language": "python",
   "name": "python3"
  },
  "language_info": {
   "codemirror_mode": {
    "name": "ipython",
    "version": 3
   },
   "file_extension": ".py",
   "mimetype": "text/x-python",
   "name": "python",
   "nbconvert_exporter": "python",
   "pygments_lexer": "ipython3",
   "version": "3.9.10"
  },
  "orig_nbformat": 4
 },
 "nbformat": 4,
 "nbformat_minor": 2
}
