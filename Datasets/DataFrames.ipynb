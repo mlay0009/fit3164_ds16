{
 "cells": [
  {
   "cell_type": "code",
   "execution_count": 22,
   "metadata": {},
   "outputs": [],
   "source": [
    "\n",
    "import os\n",
    "\n",
    "# Replace 'new_directory_path' with the path of the directory you want to set as the working directory\n",
    "new_directory_path = r'C:\\Users\\marcu\\OneDrive\\Desktop\\FIT3164\\Project Files\\fit3164_ds16\\Datasets'\n",
    "\n",
    "# Change the working directory\n",
    "os.chdir(new_directory_path)\n"
   ]
  },
  {
   "cell_type": "code",
   "execution_count": 17,
   "metadata": {},
   "outputs": [],
   "source": [
    "import pandas as pd\n",
    "\n",
    "# Replace 'your_file.xls' with the actual path to your Excel file\n",
    "excel_file_path = 'Coles_v_Woolworths_Price_Comparison.xlsx'\n",
    "\n",
    "# Read the Excel file into a pandas DataFrame\n",
    "df = pd.read_excel(excel_file_path)\n",
    "\n",
    "# Now you can work with the DataFrame 'df'"
   ]
  },
  {
   "cell_type": "code",
   "execution_count": 19,
   "metadata": {},
   "outputs": [
    {
     "data": {
      "text/html": [
       "<div>\n",
       "<style scoped>\n",
       "    .dataframe tbody tr th:only-of-type {\n",
       "        vertical-align: middle;\n",
       "    }\n",
       "\n",
       "    .dataframe tbody tr th {\n",
       "        vertical-align: top;\n",
       "    }\n",
       "\n",
       "    .dataframe thead th {\n",
       "        text-align: right;\n",
       "    }\n",
       "</style>\n",
       "<table border=\"1\" class=\"dataframe\">\n",
       "  <thead>\n",
       "    <tr style=\"text-align: right;\">\n",
       "      <th></th>\n",
       "      <th>DATE</th>\n",
       "      <th>ITEM_NAME</th>\n",
       "      <th>COLES_PRICE</th>\n",
       "      <th>WOOLWORTHS_PRICE</th>\n",
       "    </tr>\n",
       "  </thead>\n",
       "  <tbody>\n",
       "    <tr>\n",
       "      <th>0</th>\n",
       "      <td>17.09.2019</td>\n",
       "      <td>wonder white bread</td>\n",
       "      <td>3.2</td>\n",
       "      <td>3.4</td>\n",
       "    </tr>\n",
       "    <tr>\n",
       "      <th>1</th>\n",
       "      <td>17.09.2019</td>\n",
       "      <td>wonder white vitaamins bread</td>\n",
       "      <td>3.5</td>\n",
       "      <td>3.4</td>\n",
       "    </tr>\n",
       "    <tr>\n",
       "      <th>2</th>\n",
       "      <td>17.09.2019</td>\n",
       "      <td>waterthins crispbread</td>\n",
       "      <td>4.0</td>\n",
       "      <td>3.5</td>\n",
       "    </tr>\n",
       "    <tr>\n",
       "      <th>3</th>\n",
       "      <td>17.09.2019</td>\n",
       "      <td>vitastics breadrolls</td>\n",
       "      <td>3.4</td>\n",
       "      <td>3.3</td>\n",
       "    </tr>\n",
       "    <tr>\n",
       "      <th>4</th>\n",
       "      <td>17.09.2019</td>\n",
       "      <td>tiptop sunblast white</td>\n",
       "      <td>2.9</td>\n",
       "      <td>3.0</td>\n",
       "    </tr>\n",
       "  </tbody>\n",
       "</table>\n",
       "</div>"
      ],
      "text/plain": [
       "         DATE                     ITEM_NAME  COLES_PRICE  WOOLWORTHS_PRICE\n",
       "0  17.09.2019            wonder white bread          3.2               3.4\n",
       "1  17.09.2019  wonder white vitaamins bread          3.5               3.4\n",
       "2  17.09.2019         waterthins crispbread          4.0               3.5\n",
       "3  17.09.2019          vitastics breadrolls          3.4               3.3\n",
       "4  17.09.2019         tiptop sunblast white          2.9               3.0"
      ]
     },
     "execution_count": 19,
     "metadata": {},
     "output_type": "execute_result"
    }
   ],
   "source": [
    "df.head()"
   ]
  },
  {
   "cell_type": "code",
   "execution_count": 71,
   "metadata": {},
   "outputs": [],
   "source": [
    "import pandas as pd\n",
    "\n",
    "# Replace 'your_file.xls' with the actual path to your Excel file\n",
    "excel_file_path = 'Average_Retail_Prices_June_2011.xls'\n",
    "\n",
    "# Read the Excel file into a pandas DataFrame\n",
    "df2 = pd.read_excel(excel_file_path, 'Table_1')\n",
    "\n",
    "# Delete the first three rows\n",
    "df2 = df2.iloc[3:]\n",
    "\n",
    "# Reset the index of the DataFrame\n",
    "df2.reset_index(drop=True, inplace=True)\n",
    "\n",
    "# Set the values from the first row as column names\n",
    "df2.columns = df2.iloc[0]\n",
    "\n",
    "# Drop the first row (used as column names)\n",
    "df2 = df2[2:]\n",
    "\n",
    "# Reset the index of the DataFrame\n",
    "df2.reset_index(drop=True, inplace=True)\n",
    "# Delete the last three rows\n",
    "df2 = df2.iloc[:-3]\n",
    "\n",
    "# Reset the index of the DataFrame\n",
    "df2.reset_index(drop=True, inplace=True)"
   ]
  },
  {
   "cell_type": "code",
   "execution_count": 72,
   "metadata": {},
   "outputs": [
    {
     "name": "stdout",
     "output_type": "stream",
     "text": [
      "0                                               Items Sydney Melbourne  \\\n",
      "0                                      Dairy products    NaN       NaN   \n",
      "1                              Milk, 2 ltr whole milk    306       286   \n",
      "2                           Cheese, sliced (500g pkt)    527       588   \n",
      "3                                       Butter (500g)    436       371   \n",
      "4                           Bread and Cereal products    NaN       NaN   \n",
      "..                                                ...    ...       ...   \n",
      "60  Draught beer, low alcohol, public bar (285ml g...    302       312   \n",
      "61  Draught beer, full strength, public bar (285ml...    342       392   \n",
      "62                      Scotch, public bar (30ml nip)    523       640   \n",
      "63                             Personal care products    NaN       NaN   \n",
      "64                           Toilet soap (2 bar pack)    401       424   \n",
      "\n",
      "0  Brisbane Adelaide Perth Hobart Darwin Canberra Month  Year  \n",
      "0       NaN      NaN   NaN    NaN    NaN      NaN  June  2011  \n",
      "1       256      242   236    324    325      256  June  2011  \n",
      "2       515      557   552    534    633      594  June  2011  \n",
      "3       360      364   394    356    431      438  June  2011  \n",
      "4       NaN      NaN   NaN    NaN    NaN      NaN  June  2011  \n",
      "..      ...      ...   ...    ...    ...      ...   ...   ...  \n",
      "60      312      388   376    331    296      299  June  2011  \n",
      "61      341      430   394    383    391      333  June  2011  \n",
      "62      526      592   636    492    515      496  June  2011  \n",
      "63      NaN      NaN   NaN    NaN    NaN      NaN  June  2011  \n",
      "64      416      387   393    413    430      396  June  2011  \n",
      "\n",
      "[65 rows x 11 columns]\n"
     ]
    }
   ],
   "source": [
    "df2['Month'] = 'June'\n",
    "\n",
    "df2['Year'] = '2011'\n",
    "\n",
    "print(df2)"
   ]
  },
  {
   "cell_type": "code",
   "execution_count": null,
   "metadata": {},
   "outputs": [],
   "source": [
    "import os\n",
    "import pandas as pd\n",
    "\n",
    "# Replace 'folder_path' with the path to your folder containing the files\n",
    "folder_path = r'C:\\Users\\marcu\\OneDrive\\Desktop\\FIT3164\\Project Files\\fit3164_ds16\\Datasets\\Average Retail Prices 2004-2011 (Excel)'\n",
    "\n",
    "# Get a list of all files in the folder\n",
    "file_list = os.listdir(folder_path)\n",
    "\n",
    "# Initialize an empty list to store DataFrames\n",
    "dfs = []\n",
    "\n",
    "# Iterate through each file and read it into a DataFrame\n",
    "for file in file_list:\n",
    "    if file.endswith('.xls'):  # Change the file extension if needed\n",
    "        file_path = os.path.join(folder_path, file)\n",
    "        df = pd.read_excel(file_path, sheet_name='Table_1')  # Assuming 'Table_1' is the sheet name\n",
    "        year, month = file.split('-')\n",
    "        df['Year'] = year\n",
    "        df['Month'] = month\n",
    "        dfs.append(df)\n",
    "\n",
    "# Concatenate all DataFrames in the list\n",
    "combined_df = pd.concat(dfs, ignore_index=True)\n",
    "\n",
    "# Display the combined DataFrame\n",
    "print(combined_df)\n",
    "\n"
   ]
  },
  {
   "cell_type": "code",
   "execution_count": 74,
   "metadata": {},
   "outputs": [
    {
     "name": "stdout",
     "output_type": "stream",
     "text": [
      "['2004-12.xls', '2005-12.xls', '2006-12.xls', '2007-12.xls', '2008-12.xls', 'dec09.xls', 'dec10.xls', 'jun05.xls', 'jun06.xls', 'jun07.xls', 'jun08.xls', 'jun09.xls', 'jun10.xls', 'jun11.xls', 'mar05.xls', 'mar06.xls', 'mar07.xls', 'mar08.xls', 'mar09.xls', 'mar10.xls', 'mar11.xls', 'sep05.xls', 'sep06.xls', 'sep07.xls', 'sep08.xls', 'sep09.xls', 'sep10.xls']\n"
     ]
    }
   ],
   "source": [
    "# Replace 'folder_path' with the path to your folder containing the files\n",
    "folder_path = r'C:\\Users\\marcu\\OneDrive\\Desktop\\FIT3164\\Project Files\\fit3164_ds16\\Datasets\\Average Retail Prices 2004-2011 (Excel)'\n",
    "\n",
    "# Get a list of all files in the folder\n",
    "file_list = os.listdir(folder_path)\n",
    "\n",
    "# Filter the list to include only files with the desired extension\n",
    "xls_files = [file for file in file_list if file.endswith('.xls')]\n",
    "\n",
    "# Display the list of file names\n",
    "print(xls_files)"
   ]
  }
 ],
 "metadata": {
  "kernelspec": {
   "display_name": "Python 3",
   "language": "python",
   "name": "python3"
  },
  "language_info": {
   "codemirror_mode": {
    "name": "ipython",
    "version": 3
   },
   "file_extension": ".py",
   "mimetype": "text/x-python",
   "name": "python",
   "nbconvert_exporter": "python",
   "pygments_lexer": "ipython3",
   "version": "3.11.2"
  },
  "orig_nbformat": 4
 },
 "nbformat": 4,
 "nbformat_minor": 2
}
