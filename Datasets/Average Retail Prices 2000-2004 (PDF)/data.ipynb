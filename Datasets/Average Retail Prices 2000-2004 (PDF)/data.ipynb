{
 "cells": [
  {
   "cell_type": "code",
   "execution_count": 1,
   "metadata": {},
   "outputs": [],
   "source": [
    "import os, glob\n",
    "import tabula\n",
    "import pandas as pd"
   ]
  },
  {
   "cell_type": "code",
   "execution_count": 2,
   "metadata": {},
   "outputs": [],
   "source": [
    "directory_path = '../Average Retail Prices 2000-2004 (PDF)/'\n",
    "file_list = []\n",
    "file_list2 = []\n",
    "\n",
    "for filename in os.listdir(directory_path):\n",
    "    if os.path.isfile(os.path.join(directory_path,filename)):\n",
    "        file_list.append(filename)"
   ]
  },
  {
   "cell_type": "code",
   "execution_count": 6,
   "metadata": {},
   "outputs": [
    {
     "name": "stderr",
     "output_type": "stream",
     "text": [
      "Error from tabula-java:\n",
      "The operation couldn’t be completed. Unable to locate a Java Runtime.\n",
      "Please visit http://www.java.com for information on installing Java.\n",
      "\n",
      "\n",
      "\n"
     ]
    },
    {
     "ename": "CalledProcessError",
     "evalue": "Command '['java', '-Djava.awt.headless=true', '-Dfile.encoding=UTF8', '-jar', '/opt/homebrew/lib/python3.9/site-packages/tabula/tabula-1.0.5-jar-with-dependencies.jar', '--pages', '2,3', '--guess', '--format', 'JSON', '../Average Retail Prices 2000-2004 (PDF)/64030_mar 2002.pdf']' returned non-zero exit status 1.",
     "output_type": "error",
     "traceback": [
      "\u001b[0;31m---------------------------------------------------------------------------\u001b[0m",
      "\u001b[0;31mCalledProcessError\u001b[0m                        Traceback (most recent call last)",
      "\u001b[1;32m/Users/seanbastians/Desktop/UNIVERSITY/4th Year/FIT3162 - DataSci Project 2/Project Files/fit3164_ds16/Datasets/Average Retail Prices 2000-2004 (PDF)/data.ipynb Cell 3\u001b[0m in \u001b[0;36m<cell line: 3>\u001b[0;34m()\u001b[0m\n\u001b[1;32m      <a href='vscode-notebook-cell:/Users/seanbastians/Desktop/UNIVERSITY/4th%20Year/FIT3162%20-%20DataSci%20Project%202/Project%20Files/fit3164_ds16/Datasets/Average%20Retail%20Prices%202000-2004%20%28PDF%29/data.ipynb#W2sZmlsZQ%3D%3D?line=2'>3</a>\u001b[0m \u001b[39mfor\u001b[39;00m file \u001b[39min\u001b[39;00m file_list:\n\u001b[1;32m      <a href='vscode-notebook-cell:/Users/seanbastians/Desktop/UNIVERSITY/4th%20Year/FIT3162%20-%20DataSci%20Project%202/Project%20Files/fit3164_ds16/Datasets/Average%20Retail%20Prices%202000-2004%20%28PDF%29/data.ipynb#W2sZmlsZQ%3D%3D?line=3'>4</a>\u001b[0m     date \u001b[39m=\u001b[39m file[\u001b[39m6\u001b[39m:\u001b[39m14\u001b[39m] \n\u001b[0;32m----> <a href='vscode-notebook-cell:/Users/seanbastians/Desktop/UNIVERSITY/4th%20Year/FIT3162%20-%20DataSci%20Project%202/Project%20Files/fit3164_ds16/Datasets/Average%20Retail%20Prices%202000-2004%20%28PDF%29/data.ipynb#W2sZmlsZQ%3D%3D?line=4'>5</a>\u001b[0m     tables \u001b[39m=\u001b[39m tabula\u001b[39m.\u001b[39;49mread_pdf(directory_path \u001b[39m+\u001b[39;49m file, pages\u001b[39m=\u001b[39;49m[\u001b[39m2\u001b[39;49m,\u001b[39m3\u001b[39;49m], pandas_options\u001b[39m=\u001b[39;49m{\u001b[39m'\u001b[39;49m\u001b[39mheader\u001b[39;49m\u001b[39m'\u001b[39;49m:\u001b[39mNone\u001b[39;49;00m})\n\u001b[1;32m      <a href='vscode-notebook-cell:/Users/seanbastians/Desktop/UNIVERSITY/4th%20Year/FIT3162%20-%20DataSci%20Project%202/Project%20Files/fit3164_ds16/Datasets/Average%20Retail%20Prices%202000-2004%20%28PDF%29/data.ipynb#W2sZmlsZQ%3D%3D?line=5'>6</a>\u001b[0m     \u001b[39mfor\u001b[39;00m table \u001b[39min\u001b[39;00m tables:\n\u001b[1;32m      <a href='vscode-notebook-cell:/Users/seanbastians/Desktop/UNIVERSITY/4th%20Year/FIT3162%20-%20DataSci%20Project%202/Project%20Files/fit3164_ds16/Datasets/Average%20Retail%20Prices%202000-2004%20%28PDF%29/data.ipynb#W2sZmlsZQ%3D%3D?line=6'>7</a>\u001b[0m         table[\u001b[39m'\u001b[39m\u001b[39mDate\u001b[39m\u001b[39m'\u001b[39m] \u001b[39m=\u001b[39m date\n",
      "File \u001b[0;32m/opt/homebrew/lib/python3.9/site-packages/tabula/io.py:425\u001b[0m, in \u001b[0;36mread_pdf\u001b[0;34m(input_path, output_format, encoding, java_options, pandas_options, multiple_tables, user_agent, use_raw_url, pages, guess, area, relative_area, lattice, stream, password, silent, columns, relative_columns, format, batch, output_path, options)\u001b[0m\n\u001b[1;32m    422\u001b[0m     \u001b[39mraise\u001b[39;00m \u001b[39mValueError\u001b[39;00m(\u001b[39mf\u001b[39m\u001b[39m\"\u001b[39m\u001b[39m{\u001b[39;00mpath\u001b[39m}\u001b[39;00m\u001b[39m is empty. Check the file, or download it manually.\u001b[39m\u001b[39m\"\u001b[39m)\n\u001b[1;32m    424\u001b[0m \u001b[39mtry\u001b[39;00m:\n\u001b[0;32m--> 425\u001b[0m     output \u001b[39m=\u001b[39m _run(java_options, tabula_options, path, encoding)\n\u001b[1;32m    426\u001b[0m \u001b[39mfinally\u001b[39;00m:\n\u001b[1;32m    427\u001b[0m     \u001b[39mif\u001b[39;00m temporary:\n",
      "File \u001b[0;32m/opt/homebrew/lib/python3.9/site-packages/tabula/io.py:88\u001b[0m, in \u001b[0;36m_run\u001b[0;34m(java_options, options, path, encoding)\u001b[0m\n\u001b[1;32m     85\u001b[0m     args\u001b[39m.\u001b[39mappend(path)\n\u001b[1;32m     87\u001b[0m \u001b[39mtry\u001b[39;00m:\n\u001b[0;32m---> 88\u001b[0m     result \u001b[39m=\u001b[39m subprocess\u001b[39m.\u001b[39;49mrun(\n\u001b[1;32m     89\u001b[0m         args,\n\u001b[1;32m     90\u001b[0m         stdout\u001b[39m=\u001b[39;49msubprocess\u001b[39m.\u001b[39;49mPIPE,\n\u001b[1;32m     91\u001b[0m         stderr\u001b[39m=\u001b[39;49msubprocess\u001b[39m.\u001b[39;49mPIPE,\n\u001b[1;32m     92\u001b[0m         stdin\u001b[39m=\u001b[39;49msubprocess\u001b[39m.\u001b[39;49mDEVNULL,\n\u001b[1;32m     93\u001b[0m         check\u001b[39m=\u001b[39;49m\u001b[39mTrue\u001b[39;49;00m,\n\u001b[1;32m     94\u001b[0m     )\n\u001b[1;32m     95\u001b[0m     \u001b[39mif\u001b[39;00m result\u001b[39m.\u001b[39mstderr:\n\u001b[1;32m     96\u001b[0m         logger\u001b[39m.\u001b[39mwarning(\u001b[39mf\u001b[39m\u001b[39m\"\u001b[39m\u001b[39mGot stderr: \u001b[39m\u001b[39m{\u001b[39;00mresult\u001b[39m.\u001b[39mstderr\u001b[39m.\u001b[39mdecode(encoding)\u001b[39m}\u001b[39;00m\u001b[39m\"\u001b[39m)\n",
      "File \u001b[0;32m/opt/homebrew/Cellar/python@3.9/3.9.10/Frameworks/Python.framework/Versions/3.9/lib/python3.9/subprocess.py:528\u001b[0m, in \u001b[0;36mrun\u001b[0;34m(input, capture_output, timeout, check, *popenargs, **kwargs)\u001b[0m\n\u001b[1;32m    526\u001b[0m     retcode \u001b[39m=\u001b[39m process\u001b[39m.\u001b[39mpoll()\n\u001b[1;32m    527\u001b[0m     \u001b[39mif\u001b[39;00m check \u001b[39mand\u001b[39;00m retcode:\n\u001b[0;32m--> 528\u001b[0m         \u001b[39mraise\u001b[39;00m CalledProcessError(retcode, process\u001b[39m.\u001b[39margs,\n\u001b[1;32m    529\u001b[0m                                  output\u001b[39m=\u001b[39mstdout, stderr\u001b[39m=\u001b[39mstderr)\n\u001b[1;32m    530\u001b[0m \u001b[39mreturn\u001b[39;00m CompletedProcess(process\u001b[39m.\u001b[39margs, retcode, stdout, stderr)\n",
      "\u001b[0;31mCalledProcessError\u001b[0m: Command '['java', '-Djava.awt.headless=true', '-Dfile.encoding=UTF8', '-jar', '/opt/homebrew/lib/python3.9/site-packages/tabula/tabula-1.0.5-jar-with-dependencies.jar', '--pages', '2,3', '--guess', '--format', 'JSON', '../Average Retail Prices 2000-2004 (PDF)/64030_mar 2002.pdf']' returned non-zero exit status 1."
     ]
    }
   ],
   "source": [
    "columns = ['Item','Sydney','Melbourne','Brisbane','Adelaide','Perth','Hobart','Darwin','Canberra','Date']\n",
    "df = pd.DataFrame(columns=columns)\n",
    "for file in file_list:\n",
    "    date = file[6:14] \n",
    "    tables = tabula.read_pdf(directory_path + file, pages=[2,3], pandas_options={'header':None})\n",
    "    for table in tables:\n",
    "        table['Date'] = date\n",
    "        table.columns = columns\n",
    "        df = pd.concat([df,table],ignore_index= True)  "
   ]
  }
 ],
 "metadata": {
  "kernelspec": {
   "display_name": "Python 3",
   "language": "python",
   "name": "python3"
  },
  "language_info": {
   "codemirror_mode": {
    "name": "ipython",
    "version": 3
   },
   "file_extension": ".py",
   "mimetype": "text/x-python",
   "name": "python",
   "nbconvert_exporter": "python",
   "pygments_lexer": "ipython3",
   "version": "3.9.10"
  },
  "orig_nbformat": 4
 },
 "nbformat": 4,
 "nbformat_minor": 2
}
